{
 "cells": [
  {
   "cell_type": "markdown",
   "metadata": {
    "collapsed": false,
    "pycharm": {
     "name": "#%% md\n"
    }
   },
   "source": [
    "# [Récupérer des éléments avec les slices](https://www.docstring.fr/formations/exercices/921/?previous=difficulty%3D1&tab=enonce)\n",
    "\n",
    "## Énoncé\n",
    "\n",
    "> Dans cet exercice, vous devez récupérer différents morceaux d'une liste.\n",
    ">\n",
    "> La liste de départ est la suivante :\n",
    ">\n",
    "> `liste = [\"Maxime\", \"Martine\", \"Christopher\", \"Carlos\", \"Michael\", \"Eric\"]`\n",
    ">\n",
    ">L'objectif de cet exercice est de récupérer les informations suivantes grâce aux slices :\n",
    ">\n",
    "> - Les **trois premiers employés** (`\"Maxime\"`, `\"Martine\"` et `\"Christopher\"`) dans une liste `trois_premiers`.\n",
    "> - Les **trois derniers employés** (`\"Carlos\"`, `\"Michael\"` et `\"Éric\"`) dans une liste `trois_derniers`.\n",
    "> - Tous les employés **sauf** le premier et le dernier dans une liste `milieu`.\n",
    "> - Le **premier** et le **dernier** employé dans une liste `premier_dernier`.\n",
    "\n",
    "## Aide\n",
    "\n",
    "> Pensez au fait que vous pouvez parcourir une liste en sens inverse avec des indices négatifs.\n",
    "\n",
    "## Pédagogie\n",
    "\n",
    "> revenir sur la notion de `slice` et comment elle fonctionne (et pourquoi on pourrait en avoir besoin)\n",
    "\n",
    "## Analyse de l'énoncé\n",
    "\n",
    "- l'énoncé est assez explicite avec des indications en gras, couleurs pour marquer les éléments important\n",
    "- Tout cet exercice se base sur la compréhension et bonne utilisation de l'outil `slice` python sur les `list`"
   ]
  },
  {
   "cell_type": "markdown",
   "metadata": {
    "collapsed": false,
    "pycharm": {
     "name": "#%% md\n"
    }
   },
   "source": [
    "## Solutions"
   ]
  },
  {
   "cell_type": "markdown",
   "metadata": {
    "collapsed": false,
    "pycharm": {
     "name": "#%% md\n"
    }
   },
   "source": [
    "### Documentations\n",
    "\n",
    "- [class slice(stop) - class slice(start, stop[, step])](https://docs.python.org/fr/3/library/functions.html#slice) (ps: cette partie de la documentation n'est pas traduite en 🇫🇷Français🇫🇷, ça pourrait être 💡un bon apport💡 dans la documentation/opensource de faire cette traduction et la proposer ^^)\n",
    "- [itertools.islice(iterable, stop) - itertools.islice(iterable, start, stop[, step])](https://docs.python.org/fr/3/library/itertools.html#itertools.islice): Crée un **itérateur** qui renvoie les **élément sélectionnés de l'itérable**. (ps: il y a une ❌faute❌ d'orthographe dans cette traduction :p)\n",
    "- [Glossaire - tranche](https://docs.python.org/fr/3/glossary.html#term-slice): (slice en anglais), un objet contenant habituellement une portion de séquence."
   ]
  },
  {
   "cell_type": "code",
   "execution_count": 1,
   "metadata": {
    "collapsed": false,
    "pycharm": {
     "name": "#%%\n"
    }
   },
   "outputs": [],
   "source": [
    "# liste d'entrée [énoncé]\n",
    "liste = [\"Maxime\", \"Martine\", \"Christopher\", \"Carlos\", \"Michael\", \"Eric\"]"
   ]
  },
  {
   "cell_type": "code",
   "execution_count": 2,
   "metadata": {},
   "outputs": [],
   "source": [
    "# 1. Les **trois premiers employés** (`\"Maxime\"`, `\"Martine\"` et `\"Christopher\"`) dans une liste `trois_premiers`.\n",
    "trois_premiers_expected = [\"Maxime\", \"Martine\", \"Christopher\"]"
   ]
  },
  {
   "cell_type": "code",
   "execution_count": 3,
   "metadata": {},
   "outputs": [],
   "source": [
    "# version explicite avec start, stop, increment\n",
    "start = 0       # [default]\n",
    "stop = 3\n",
    "increment = 1   # [default]\n",
    "trois_premiers = liste[start:stop:increment]\n",
    "assert trois_premiers == trois_premiers_expected"
   ]
  },
  {
   "cell_type": "code",
   "execution_count": 4,
   "metadata": {},
   "outputs": [],
   "source": [
    "# optimisation du slice => on peut supprimer/omettre tous les [default]\n",
    "trois_premiers = liste[:3:]\n",
    "assert trois_premiers == trois_premiers_expected"
   ]
  },
  {
   "cell_type": "code",
   "execution_count": 5,
   "metadata": {},
   "outputs": [],
   "source": [
    "# on peut supprimer/omettre le dernier `:` pour l'incrément s'il reste sur sa default value (=1)\n",
    "trois_premiers = liste[:3]\n",
    "assert trois_premiers == trois_premiers_expected"
   ]
  },
  {
   "cell_type": "code",
   "execution_count": 6,
   "metadata": {},
   "outputs": [],
   "source": [
    "# 2. Les trois derniers employés (\"Carlos\", \"Michael\" et \"Éric\") dans une liste trois_derniers.\n",
    "trois_derniers_expected = [\"Carlos\", \"Michael\", \"Eric\"]"
   ]
  },
  {
   "cell_type": "code",
   "execution_count": 7,
   "metadata": {},
   "outputs": [],
   "source": [
    "# version explicite avec start, stop, increment\n",
    "start = -3\n",
    "stop = None     # [default]\n",
    "increment = 1   # [default]\n",
    "trois_derniers = liste[start:stop:increment]\n",
    "assert trois_derniers == trois_derniers_expected"
   ]
  },
  {
   "cell_type": "code",
   "execution_count": 9,
   "metadata": {},
   "outputs": [],
   "source": [
    "# optimisation du slice => on peut supprimer/omettre tous les [default]\n",
    "trois_dernier = liste[-3::]\n",
    "assert trois_derniers == trois_derniers_expected\n",
    "\n",
    "# on peut supprimer/omettre le dernier `:` pour l'incrément s'il reste sur sa default value (=1)\n",
    "trois_dernier = liste[-3:]\n",
    "assert trois_derniers == trois_derniers_expected"
   ]
  },
  {
   "cell_type": "code",
   "execution_count": 10,
   "metadata": {},
   "outputs": [],
   "source": [
    "# 3. Tous les employés sauf le premier et le dernier dans une liste milieu.\n",
    "milieu_expected = [\"Martine\", \"Christopher\", \"Carlos\", \"Michael\"]"
   ]
  },
  {
   "cell_type": "code",
   "execution_count": 13,
   "metadata": {},
   "outputs": [],
   "source": [
    "# version explicite avec start, stop, increment\n",
    "start = 1\n",
    "stop = -1\n",
    "increment = 1   # [default]\n",
    "milieu = liste[start:stop:increment]\n",
    "assert milieu == milieu_expected"
   ]
  },
  {
   "cell_type": "code",
   "execution_count": 15,
   "metadata": {},
   "outputs": [],
   "source": [
    "# optimisation du slice => on peut supprimer/omettre tous les [default]\n",
    "# on peut supprimer/omettre le dernier `:` pour l'incrément s'il reste sur sa default value (=1)\n",
    "milieu = liste[1:-1]\n",
    "assert milieu == milieu_expected"
   ]
  },
  {
   "cell_type": "code",
   "execution_count": 16,
   "metadata": {},
   "outputs": [],
   "source": [
    "# 4. Le premier et le dernier employé dans une liste premier_dernier.\n",
    "premier_dernier_expected = [\"Maxime\", \"Eric\"]"
   ]
  },
  {
   "cell_type": "code",
   "execution_count": 18,
   "metadata": {},
   "outputs": [],
   "source": [
    "# version explicite avec start, stop, increment\n",
    "start = 0       # [default]\n",
    "stop = None     # [default]\n",
    "increment = len(liste) - 1\n",
    "premier_dernier = liste[start:stop:increment]\n",
    "assert premier_dernier == premier_dernier_expected"
   ]
  },
  {
   "cell_type": "code",
   "execution_count": 20,
   "metadata": {},
   "outputs": [],
   "source": [
    "# optimisation du slice => on peut supprimer/omettre tous les [default]\n",
    "premier_dernier = liste[::len(liste) - 1]\n",
    "assert premier_dernier == premier_dernier_expected"
   ]
  },
  {
   "cell_type": "code",
   "execution_count": 21,
   "metadata": {},
   "outputs": [],
   "source": [
    "# solution alternative sans slice (merci Oumar)\n",
    "premier_dernier = [liste[0], liste[-1]]\n",
    "assert premier_dernier == premier_dernier_expected"
   ]
  }
 ],
 "metadata": {
  "kernelspec": {
   "display_name": "Python 3.9.2 64-bit",
   "language": "python",
   "name": "python3"
  },
  "language_info": {
   "codemirror_mode": {
    "name": "ipython",
    "version": 3
   },
   "file_extension": ".py",
   "mimetype": "text/x-python",
   "name": "python",
   "nbconvert_exporter": "python",
   "pygments_lexer": "ipython3",
   "version": "3.9.2"
  },
  "vscode": {
   "interpreter": {
    "hash": "31f2aee4e71d21fbe5cf8b01ff0e069b9275f58929596ceb00d14d90e3e16cd6"
   }
  }
 },
 "nbformat": 4,
 "nbformat_minor": 0
}
