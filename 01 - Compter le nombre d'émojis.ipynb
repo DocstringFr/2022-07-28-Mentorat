{
 "cells": [
  {
   "cell_type": "markdown",
   "metadata": {
    "pycharm": {
     "name": "#%% md\n"
    }
   },
   "source": [
    "# [DocString: \"Compter le nombre d'émojis\"](https://www.docstring.fr/formations/exercices/1979/?tab=enonce)\n",
    "\n",
    "## Énoncé\n",
    "\n",
    "> Dans cet exercice, l'objectif est de récupérer le nombre d'émojis pour chaque émoji dans la chaîne de caractères `emojis`.\n",
    ">\n",
    "> Vous devez récupérer ces informations dans le dictionnaire `emojis_count`.\n",
    ">\n",
    "> Dans l'exemple de l'exercice, `emojis_count` doit donc être égal à :\n",
    ">\n",
    "> {'🥳': 4, '🚀': 1, '😎': 1, '😍': 2}\n",
    "\n",
    "## Aide\n",
    "\n",
    "> Pour compter le nombre d'éléments dans un **itérable**, on peut utiliser la méthode **`count`**.\n",
    "> Pensez également à utiliser les **`sets`** 😉\n",
    "\n",
    "## Pédagogie\n",
    "\n",
    "> intéressant de détailler la réflexion -> \"Je dois compter le nombre d'emojis :\n",
    "> - par quoi je commence\n",
    "> - avec quoi je travaille\n",
    "> - quelles notions vont m'aider ?\n",
    ">\n",
    "> => Faire l'algorithme en français avant de passer au code.\n",
    "\n",
    "## Analyse de l'énoncé\n",
    "\n",
    "- récupérer le **nombre** (d'émojis) pour chaque (émoji) dans la **chaîne de caractères** (emojis).\n",
    "- (Vous devez) récupérer (ces informations) dans **le dictionnaire** (emojis_count).\n",
    "- Dans l'**exemple** de l'exercice, (emojis_count) doit (donc) être égal à : **{'🥳': 4, '🚀': 1, '😎': 1, '😍': 2}**"
   ]
  },
  {
   "cell_type": "markdown",
   "metadata": {
    "pycharm": {
     "name": "#%% md\n"
    }
   },
   "source": [
    "## Solutions"
   ]
  },
  {
   "cell_type": "markdown",
   "metadata": {
    "pycharm": {
     "name": "#%% md\n"
    }
   },
   "source": [
    "### Avec `count` et `sets`\n",
    "\n",
    "#### Documentations\n",
    "- [list.count(x)](https://docs.python.org/fr/3/tutorial/datastructures.html)\n",
    "- [5.4. Ensembles (sets)](https://docs.python.org/fr/3/tutorial/datastructures.html#sets)\n",
    "\n",
    "#### Algo\n",
    "\n",
    "Ce qu'on veut faire :\n",
    "1. Décomposer la chaine de caractère d'entrée `emojis` en un ensemble unique d'émoji composant cette chaine\n",
    "2. pour chaque dénombre d'émoji (unique), on cré une entrée dans un dictionnaire de résultat `emojis_count` ou :\n",
    "    - la clé est l'émoji (unique) qu'on dénombre: on utilisera `set`\n",
    "    - la valeur est le nombre de fois qu'on compte l'émoji dans la chaine de caractère d'entrée `emojis`: on utilisera `list.count(emoji)`"
   ]
  },
  {
   "cell_type": "code",
   "execution_count": 1,
   "metadata": {
    "pycharm": {
     "name": "#%%\n"
    }
   },
   "outputs": [],
   "source": [
    "# chaine de caractères d'émojis d'entrée [énoncé]\n",
    "emojis = \"🥳😎🥳🥳😍🥳😍🚀\""
   ]
  },
  {
   "cell_type": "code",
   "execution_count": 2,
   "metadata": {
    "pycharm": {
     "name": "#%%\n"
    }
   },
   "outputs": [
    {
     "name": "stdout",
     "output_type": "stream",
     "text": [
      "uniq_emojis={'😎', '🥳', '😍', '🚀'}\n"
     ]
    }
   ],
   "source": [
    "# création d'un set d'émojis uniques à partir de cette chaine\n",
    "uniq_emojis = set(emojis)\n",
    "print(f\"{uniq_emojis=}\")"
   ]
  },
  {
   "cell_type": "code",
   "execution_count": 3,
   "metadata": {
    "pycharm": {
     "name": "#%%\n"
    }
   },
   "outputs": [
    {
     "name": "stdout",
     "output_type": "stream",
     "text": [
      "count of 😎 in \"🥳😎🥳🥳😍🥳😍🚀\" = 1\n",
      "count of 🥳 in \"🥳😎🥳🥳😍🥳😍🚀\" = 4\n",
      "count of 😍 in \"🥳😎🥳🥳😍🥳😍🚀\" = 2\n",
      "count of 🚀 in \"🥳😎🥳🥳😍🥳😍🚀\" = 1\n"
     ]
    }
   ],
   "source": [
    "# pour chaque émoji unique, on compte le nombre de fois qu'on le voit dans la chaine `emojis` d'entrée\n",
    "for uniq_emoji in uniq_emojis:\n",
    "    print(f\"\"\"count of {uniq_emoji} in \\\"{emojis}\\\" = {emojis.count(uniq_emoji)}\"\"\")"
   ]
  },
  {
   "cell_type": "code",
   "execution_count": 4,
   "metadata": {
    "pycharm": {
     "name": "#%%\n"
    }
   },
   "outputs": [
    {
     "name": "stdout",
     "output_type": "stream",
     "text": [
      "emojis_count={'😎': 1, '🥳': 4, '😍': 2, '🚀': 1}\n"
     ]
    }
   ],
   "source": [
    "# construction d'un dictionnaire de résultat avec ces dénombrements\n",
    "emojis_count = {\n",
    "    uniq_emoji: emojis.count(uniq_emoji)\n",
    "    for uniq_emoji in uniq_emojis\n",
    "}\n",
    "print(f\"{emojis_count=}\")"
   ]
  },
  {
   "cell_type": "code",
   "execution_count": 5,
   "metadata": {
    "pycharm": {
     "name": "#%%\n"
    }
   },
   "outputs": [],
   "source": [
    "# dictionnaire de résultat attendu [énoncé]\n",
    "emojis_count_expected = {'🥳': 4, '🚀': 1, '😎': 1, '😍': 2}\n",
    "\n",
    "# on vérifie le résultat\n",
    "assert emojis_count == emojis_count_expected"
   ]
  },
  {
   "cell_type": "markdown",
   "metadata": {
    "pycharm": {
     "name": "#%% md\n"
    }
   },
   "source": [
    "### Avec `collections.Counter`\n",
    "\n",
    "#### Documentations\n",
    "- [class collections.Counter([iterable-or-mapping])](https://docs.python.org/fr/3/library/collections.html#collections.Counter): La classe Counter est une **sous-classe de dict** qui permet le **dénombrement** d'**objets hachables**.\n",
    "\n",
    "#### Algo\n",
    "\n",
    "Ce qu'on veut faire :\n",
    "1. Utiliser la fonction de dénombrement proposé par `collections.Counter`\n",
    "2. et ramener son résultat vers le format du résultat attendu\n",
    "\n",
    "Vraiment très simple avec cet outil ^^"
   ]
  },
  {
   "cell_type": "code",
   "execution_count": 6,
   "metadata": {
    "pycharm": {
     "name": "#%%\n"
    }
   },
   "outputs": [],
   "source": [
    "# on importe l'outil depuis le package collections\n",
    "from collections import Counter"
   ]
  },
  {
   "cell_type": "code",
   "execution_count": 7,
   "metadata": {
    "pycharm": {
     "name": "#%%\n"
    }
   },
   "outputs": [
    {
     "data": {
      "text/plain": [
       "Counter({'🥳': 4, '😎': 1, '😍': 2, '🚀': 1})"
      ]
     },
     "execution_count": 7,
     "metadata": {},
     "output_type": "execute_result"
    }
   ],
   "source": [
    "# on utilise `collections.Counter` sur notre chaine d'entrée `emojis`\n",
    "Counter(emojis)"
   ]
  },
  {
   "cell_type": "code",
   "execution_count": 8,
   "metadata": {
    "pycharm": {
     "name": "#%%\n"
    }
   },
   "outputs": [],
   "source": [
    "# ça ressemble déjà beaucoup à notre résultat attendu, on vérifie qu'on n'est pas déjà bon ^^\n",
    "assert Counter(emojis) == emojis_count_expected"
   ]
  },
  {
   "cell_type": "code",
   "execution_count": 9,
   "metadata": {
    "pycharm": {
     "name": "#%%\n"
    }
   },
   "outputs": [],
   "source": [
    "# et voilà, très rapide avec cette méthode :D"
   ]
  },
  {
   "cell_type": "markdown",
   "metadata": {
    "pycharm": {
     "name": "#%% md\n"
    }
   },
   "source": [
    "### Avec `collections.defaultdict`\n",
    "\n",
    "#### Documentations\n",
    "- [Objets defaultdict](https://docs.python.org/fr/3/library/collections.html#defaultdict-objects) : Renvoie un nouvel objet qui se comporte comme un **dictionnaire**.\n",
    "\n",
    "#### Algo\n",
    "\n",
    "Ce qu'on veut faire :\n",
    "1. parcourir chaque emoji qui compose la chaine d'entrée `emojis`\n",
    "2. pour chaque emoji rencontré, on ajoute +1 dans un dictionnaire de résultat `emoji_count` avec :\n",
    "    - pour clé : l'émoji (unique) issu d'`emojis`\n",
    "    - pour valeur : un entier qui s'incrémente à chaque qu'on rencontre l'émoji, donc à la fin du traitement égale au nombre de fois qu'on voit/dénombre cet émoji"
   ]
  },
  {
   "cell_type": "code",
   "execution_count": 10,
   "metadata": {
    "pycharm": {
     "name": "#%%\n"
    }
   },
   "outputs": [],
   "source": [
    "# import de `defaultdict` depuis le package `collections`\n",
    "from collections import defaultdict"
   ]
  },
  {
   "cell_type": "code",
   "execution_count": 11,
   "metadata": {
    "pycharm": {
     "name": "#%%\n"
    }
   },
   "outputs": [
    {
     "name": "stdout",
     "output_type": "stream",
     "text": [
      "emojis_count['toto']=0\n",
      "emojis_count['tata']=42\n"
     ]
    }
   ],
   "source": [
    "# initialisation du defaultdict de résultat `emojis_count`\n",
    "emojis_count = defaultdict(int)\n",
    "\n",
    "# n'importe quelle clé non initialisée aura la valeur par défaut du constructeur class <int> => int() = 0\n",
    "# 'toto' n'est pas une clé définit du defaultdict donc il renverra la valeur par défaut\n",
    "print(f\"{emojis_count['toto']=}\")\n",
    "# affectation d'une valeur à une clé 'tata'\n",
    "emojis_count[\"tata\"] = 42\n",
    "print(f\"{emojis_count['tata']=}\")"
   ]
  },
  {
   "cell_type": "code",
   "execution_count": 14,
   "metadata": {
    "pycharm": {
     "name": "#%%\n"
    }
   },
   "outputs": [
    {
     "name": "stdout",
     "output_type": "stream",
     "text": [
      "emojis_count=defaultdict(<class 'int'>, {'🥳': 4, '😎': 1, '😍': 2, '🚀': 1})\n"
     ]
    }
   ],
   "source": [
    "# reset d'`emojis_count`\n",
    "emojis_count = defaultdict(int)\n",
    "\n",
    "# on parcourt les émojis qui composent `emojis`\n",
    "for emoji in emojis:\n",
    "    # pour chaque emoji rencontré on incrémente son occurrence dans le dictionnaire résultat `emojis_count`\n",
    "    emojis_count[emoji] += 1\n",
    "# à la fin de la loop, on a un histogramme des émojis dans `emojis`\n",
    "print(f\"{emojis_count=}\")"
   ]
  },
  {
   "cell_type": "code",
   "execution_count": 13,
   "metadata": {
    "pycharm": {
     "name": "#%%\n"
    }
   },
   "outputs": [],
   "source": [
    "# on vérifie que c'est le résultat attendu\n",
    "assert emojis_count == emojis_count_expected"
   ]
  }
 ],
 "metadata": {
  "kernelspec": {
   "display_name": "Python 3 (ipykernel)",
   "language": "python",
   "name": "python3"
  },
  "language_info": {
   "codemirror_mode": {
    "name": "ipython",
    "version": 3
   },
   "file_extension": ".py",
   "mimetype": "text/x-python",
   "name": "python",
   "nbconvert_exporter": "python",
   "pygments_lexer": "ipython3",
   "version": "3.9.2"
  }
 },
 "nbformat": 4,
 "nbformat_minor": 1
}